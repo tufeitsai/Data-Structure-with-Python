{
 "cells": [
  {
   "cell_type": "markdown",
   "id": "8c3bbc11",
   "metadata": {},
   "source": [
    "<h1><center> Stacks and Queues in Python </center></h1>\n",
    "\n",
    "## Stacks:"
   ]
  },
  {
   "cell_type": "code",
   "execution_count": 1,
   "id": "d49388d3",
   "metadata": {},
   "outputs": [],
   "source": [
    "# Using single linked list\n",
    "class Node:\n",
    "    def __init__(self, value):\n",
    "        self.value = value\n",
    "        self.next = None\n",
    "\n",
    "# Now build the stacks\n",
    "\n",
    "class Stack:\n",
    "    def __init__(self,value):\n",
    "        new_node = Node(value)\n",
    "        self.top = new_node # mark the top\n",
    "        self.height = 1 # mark the length\n",
    "        \n",
    "    def print_stack(self):\n",
    "        temp = self.top\n",
    "        while temp is not None:\n",
    "            print(temp.value)\n",
    "            temp = temp.next\n",
    "            \n",
    "    def push(self, value):\n",
    "        new_node = Node(value)\n",
    "        if self.height == 0:\n",
    "            self.top = new_node\n",
    "            \n",
    "        else:\n",
    "            new_node.next = self.top\n",
    "            self.top = new_node\n",
    "        \n",
    "        self.height += 1\n",
    "        \n",
    "    def pop(self):\n",
    "        if self.height == 0:\n",
    "            return False\n",
    "        else:\n",
    "            temp = self.top\n",
    "            self.top = self.top.next\n",
    "            temp.next = None\n",
    "        \n",
    "            self.height -= 1\n",
    "            return temp\n"
   ]
  },
  {
   "cell_type": "code",
   "execution_count": 2,
   "id": "f4355b7f",
   "metadata": {},
   "outputs": [
    {
     "name": "stdout",
     "output_type": "stream",
     "text": [
      "4\n"
     ]
    }
   ],
   "source": [
    "s = Stack(4)\n",
    "s.print_stack()"
   ]
  },
  {
   "cell_type": "code",
   "execution_count": 3,
   "id": "2f5f576b",
   "metadata": {},
   "outputs": [
    {
     "name": "stdout",
     "output_type": "stream",
     "text": [
      "0\n",
      "21\n",
      "8\n",
      "5\n",
      "4\n"
     ]
    }
   ],
   "source": [
    "s.push(5)\n",
    "s.push(8)\n",
    "s.push(21)\n",
    "s.push(0)\n",
    "s.print_stack()"
   ]
  },
  {
   "cell_type": "code",
   "execution_count": 4,
   "id": "8223bad3",
   "metadata": {},
   "outputs": [
    {
     "data": {
      "text/plain": [
       "0"
      ]
     },
     "execution_count": 4,
     "metadata": {},
     "output_type": "execute_result"
    }
   ],
   "source": [
    "s.pop().value"
   ]
  },
  {
   "cell_type": "code",
   "execution_count": 5,
   "id": "9a46dec7",
   "metadata": {},
   "outputs": [
    {
     "name": "stdout",
     "output_type": "stream",
     "text": [
      "21\n",
      "8\n",
      "5\n",
      "4\n"
     ]
    }
   ],
   "source": [
    "s.print_stack()"
   ]
  },
  {
   "cell_type": "code",
   "execution_count": 6,
   "id": "60cc833b",
   "metadata": {},
   "outputs": [
    {
     "data": {
      "text/plain": [
       "4"
      ]
     },
     "execution_count": 6,
     "metadata": {},
     "output_type": "execute_result"
    }
   ],
   "source": [
    "s.height"
   ]
  },
  {
   "cell_type": "markdown",
   "id": "6858d427",
   "metadata": {},
   "source": [
    "##  Queues:"
   ]
  },
  {
   "cell_type": "code",
   "execution_count": 26,
   "id": "b0893858",
   "metadata": {},
   "outputs": [],
   "source": [
    "# Queues\n",
    "\n",
    "class Node:\n",
    "    def __init__(self, value):\n",
    "        self.value = value\n",
    "        self.next = None\n",
    "        \n",
    "class Queues:\n",
    "    def __init__(self, value):\n",
    "        new_node = Node(value)\n",
    "        self.first = new_node\n",
    "        self.last = new_node\n",
    "        self.length = 1\n",
    "        \n",
    "    def print_queues(self):\n",
    "        temp = self.first\n",
    "        while temp is not None:\n",
    "            print(temp.value)\n",
    "            temp = temp.next\n",
    "            \n",
    "\n",
    "    def enqueue(self, value):\n",
    "        new_node = Node(value)\n",
    "        if self.length == 0:\n",
    "            self.first = new_node\n",
    "            self.last = new_node\n",
    "        else:\n",
    "            self.last.next = new_node\n",
    "            self.last = new_node # move the last pointer to the new node\n",
    "            \n",
    "        self.length += 1\n",
    "    \n",
    "    def dequeue(self): # removing the first item(first in)\n",
    "        if self.length == 0:\n",
    "            return False\n",
    "        \n",
    "        temp = self.first\n",
    "        if self.length == 1:\n",
    "            self.first = None\n",
    "            self.last = None\n",
    "            \n",
    "        else:\n",
    "            self.first = self.first.next\n",
    "            temp.next = None\n",
    "            self.length -= 1\n",
    "        return temp"
   ]
  },
  {
   "cell_type": "code",
   "execution_count": 27,
   "id": "086175ac",
   "metadata": {},
   "outputs": [
    {
     "name": "stdout",
     "output_type": "stream",
     "text": [
      "4\n"
     ]
    }
   ],
   "source": [
    "q = Queues(4)\n",
    "q.print_queues()"
   ]
  },
  {
   "cell_type": "code",
   "execution_count": 28,
   "id": "7c606179",
   "metadata": {},
   "outputs": [
    {
     "name": "stdout",
     "output_type": "stream",
     "text": [
      "4\n",
      "7\n",
      "9\n",
      "0\n",
      "8\n",
      "21\n",
      "1\n"
     ]
    }
   ],
   "source": [
    "q.enqueue(7)\n",
    "q.enqueue(9)\n",
    "q.enqueue(0)\n",
    "q.enqueue(8)\n",
    "q.enqueue(21)\n",
    "q.enqueue(1)\n",
    "q.print_queues()"
   ]
  },
  {
   "cell_type": "code",
   "execution_count": 29,
   "id": "1044da9e",
   "metadata": {},
   "outputs": [
    {
     "data": {
      "text/plain": [
       "4"
      ]
     },
     "execution_count": 29,
     "metadata": {},
     "output_type": "execute_result"
    }
   ],
   "source": [
    "q.dequeue().value # move out the first"
   ]
  },
  {
   "cell_type": "code",
   "execution_count": 30,
   "id": "0a22a413",
   "metadata": {},
   "outputs": [
    {
     "data": {
      "text/plain": [
       "7"
      ]
     },
     "execution_count": 30,
     "metadata": {},
     "output_type": "execute_result"
    }
   ],
   "source": [
    "q.dequeue().value # move out the first"
   ]
  },
  {
   "cell_type": "code",
   "execution_count": 31,
   "id": "30dd4341",
   "metadata": {},
   "outputs": [
    {
     "name": "stdout",
     "output_type": "stream",
     "text": [
      "9\n",
      "0\n",
      "8\n",
      "21\n",
      "1\n"
     ]
    }
   ],
   "source": [
    "q.print_queues()"
   ]
  },
  {
   "cell_type": "code",
   "execution_count": null,
   "id": "23902cdd",
   "metadata": {},
   "outputs": [],
   "source": []
  }
 ],
 "metadata": {
  "kernelspec": {
   "display_name": "Python 3 (ipykernel)",
   "language": "python",
   "name": "python3"
  },
  "language_info": {
   "codemirror_mode": {
    "name": "ipython",
    "version": 3
   },
   "file_extension": ".py",
   "mimetype": "text/x-python",
   "name": "python",
   "nbconvert_exporter": "python",
   "pygments_lexer": "ipython3",
   "version": "3.7.6"
  }
 },
 "nbformat": 4,
 "nbformat_minor": 5
}
