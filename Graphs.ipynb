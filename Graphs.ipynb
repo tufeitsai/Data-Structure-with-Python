{
 "cells": [
  {
   "cell_type": "code",
   "execution_count": 7,
   "id": "6d62b693",
   "metadata": {},
   "outputs": [],
   "source": [
    "class Graph:\n",
    "    def __init__(self):\n",
    "        self.adj_list = {}\n",
    "        \n",
    "    def add_vertax(self, vertax):\n",
    "        if vertax not in self.adj_list.keys():\n",
    "            self.adj_list[vertax] = []\n",
    "            return True\n",
    "        return False\n",
    "    \n",
    "    def print_graph(self):\n",
    "        for vertax in self.adj_list:\n",
    "            print(vertax, \": \", self.adj_list[vertax])\n",
    "            \n",
    "    def add_edge(self, v1, v2):\n",
    "        if v1 in self.adj_list.keys() and v2 in self.adj_list.keys():\n",
    "            self.adj_list[v1].append(v2)\n",
    "            self.adj_list[v2].append(v1)\n",
    "            return True\n",
    "        return False\n",
    "    \n",
    "    def remove_edge(self,v1,v2):\n",
    "        if v1 in self.adj_list.keys() and v2 in self.adj_list.keys():\n",
    "            try:\n",
    "                self.adj_list[v1].remove(v2)\n",
    "                self.adj_list[v2].remove(v1)\n",
    "            except ValueError: # if there is no edge\n",
    "                pass\n",
    "            return True\n",
    "        return False\n",
    "    \n",
    "    \n",
    "    def remove_vertax(self,vertax):\n",
    "        # remove edge first and then remove edge\n",
    "        if vertax in self.adj_list.keys(): # Check if the vertax exists\n",
    "            for other_vertax in self.adj_list[vertax]:\n",
    "                self.adj_list[other_vertax].remove(vertax)\n",
    "            del self.adj_list[vertax]\n",
    "            return True\n",
    "        return False\n",
    "    "
   ]
  },
  {
   "cell_type": "code",
   "execution_count": 2,
   "id": "6d7d2d17",
   "metadata": {},
   "outputs": [
    {
     "name": "stdout",
     "output_type": "stream",
     "text": [
      "H :  []\n"
     ]
    }
   ],
   "source": [
    "g = Graph()\n",
    "g.add_vertax('H')\n",
    "g.print_graph()"
   ]
  },
  {
   "cell_type": "code",
   "execution_count": 3,
   "id": "c2343812",
   "metadata": {},
   "outputs": [
    {
     "data": {
      "text/plain": [
       "True"
      ]
     },
     "execution_count": 3,
     "metadata": {},
     "output_type": "execute_result"
    }
   ],
   "source": [
    "g.add_vertax('B')"
   ]
  },
  {
   "cell_type": "code",
   "execution_count": 4,
   "id": "4679f06d",
   "metadata": {},
   "outputs": [
    {
     "data": {
      "text/plain": [
       "True"
      ]
     },
     "execution_count": 4,
     "metadata": {},
     "output_type": "execute_result"
    }
   ],
   "source": [
    "g.add_edge(\"H\",\"B\")"
   ]
  },
  {
   "cell_type": "code",
   "execution_count": 5,
   "id": "5f69e7f5",
   "metadata": {},
   "outputs": [
    {
     "name": "stdout",
     "output_type": "stream",
     "text": [
      "H :  ['B']\n",
      "B :  ['H']\n"
     ]
    }
   ],
   "source": [
    "g.print_graph()"
   ]
  },
  {
   "cell_type": "code",
   "execution_count": 6,
   "id": "bae3e0aa",
   "metadata": {},
   "outputs": [
    {
     "name": "stdout",
     "output_type": "stream",
     "text": [
      "H :  []\n",
      "B :  []\n"
     ]
    }
   ],
   "source": [
    "g.remove_edge('H','B')\n",
    "g.print_graph()"
   ]
  },
  {
   "cell_type": "code",
   "execution_count": 8,
   "id": "1157dae0",
   "metadata": {},
   "outputs": [
    {
     "name": "stdout",
     "output_type": "stream",
     "text": [
      "A :  ['B', 'C', 'D']\n",
      "B :  ['A', 'D']\n",
      "C :  ['A', 'D']\n",
      "D :  ['A', 'B', 'C']\n"
     ]
    }
   ],
   "source": [
    "m1 = Graph()\n",
    "m1.add_vertax('A')\n",
    "m1.add_vertax('B')\n",
    "m1.add_vertax('C')\n",
    "m1.add_vertax('D')\n",
    "\n",
    "m1.add_edge('A','B')\n",
    "m1.add_edge('A','C')\n",
    "m1.add_edge('A','D')\n",
    "m1.add_edge('D','B')\n",
    "m1.add_edge('C','D')\n",
    "\n",
    "m1.print_graph()"
   ]
  },
  {
   "cell_type": "code",
   "execution_count": 9,
   "id": "f6ace117",
   "metadata": {},
   "outputs": [
    {
     "name": "stdout",
     "output_type": "stream",
     "text": [
      "A :  ['B', 'C']\n",
      "B :  ['A']\n",
      "C :  ['A']\n"
     ]
    }
   ],
   "source": [
    "m1.remove_vertax('D')\n",
    "m1.print_graph()"
   ]
  },
  {
   "cell_type": "code",
   "execution_count": null,
   "id": "03b0e5d2",
   "metadata": {},
   "outputs": [],
   "source": []
  }
 ],
 "metadata": {
  "kernelspec": {
   "display_name": "Python 3 (ipykernel)",
   "language": "python",
   "name": "python3"
  },
  "language_info": {
   "codemirror_mode": {
    "name": "ipython",
    "version": 3
   },
   "file_extension": ".py",
   "mimetype": "text/x-python",
   "name": "python",
   "nbconvert_exporter": "python",
   "pygments_lexer": "ipython3",
   "version": "3.7.6"
  }
 },
 "nbformat": 4,
 "nbformat_minor": 5
}
