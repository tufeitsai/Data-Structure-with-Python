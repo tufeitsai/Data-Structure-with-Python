{
 "cells": [
  {
   "cell_type": "code",
   "execution_count": 1,
   "id": "01f5f802",
   "metadata": {},
   "outputs": [],
   "source": [
    "class MaxHeap:\n",
    "    def __init__(self):\n",
    "        self.heap = []\n",
    "    \n",
    "    # This heap starts from index 0\n",
    "    # Heap Helper Method\n",
    "    \n",
    "    def _left_child(self,index):\n",
    "        return 2 * index + 1\n",
    "    \n",
    "    def _right_child(self, index):\n",
    "        return 2 * index + 2\n",
    "    \n",
    "    def _parent(self,index):\n",
    "        return (index - 1) // 2\n",
    "    \n",
    "    def _swap(self, index1, index2):\n",
    "        self.heap[index1] , self.heap[index2] = self.heap[index2], self.heap[index1]\n",
    "    \n",
    "    # Make the tree complete\n",
    "    def insert(self,value):\n",
    "        self.heap.append(value)\n",
    "        current = len(self.heap) - 1 # current index\n",
    "        \n",
    "        while current > 0 and self.heap[current] > self.heap[self._parent(current)]:\n",
    "            self._swap(current, self._parent(current))\n",
    "            current = self._parent(current)\n",
    "            \n",
    "    def _sink_down(self,index):\n",
    "        max_index = index # pointing both index, max to the maximum value\n",
    "        \n",
    "        while True:\n",
    "            left_index = self._left_child(index)\n",
    "            right_index = self._right_child(index)\n",
    "            \n",
    "            # If the left child is larger than the parent\n",
    "            # check if the left index is in the range of the heap\n",
    "            if (left_index < len(self.heap) and\n",
    "                self.heap[left_index] > self.heap[max_index]):\n",
    "                max_index = left_index # set max index to left index\n",
    "                \n",
    "            \n",
    "            # If the right child is larger than the parent\n",
    "            # Prevent the situation where there is no right index\n",
    "            if (right_index < len(self.heap) and\n",
    "                self.heap[right_index] > self.heap[max_index]):\n",
    "                max_index = right_index # set max index to right index\n",
    "                \n",
    "            if max_index != index: # swap if max index is not the index we focus on\n",
    "                self._swap(index, max_index)\n",
    "                index = max_index\n",
    "                \n",
    "            else: # ignore when max index == index, no need to swwap\n",
    "                return\n",
    "        \n",
    "            \n",
    "    def remove(self): # removing the maximum or minimum\n",
    "        if len(self.heap) == 0:\n",
    "            return None\n",
    "        if len(self.heap) == 1:\n",
    "            return self.heap.pop()\n",
    "        \n",
    "        max_value = self.heap[0]\n",
    "        \n",
    "        # move the last item to the top \n",
    "        # in order to make a complete tree\n",
    "        self.heap[0] = self.heap.pop()\n",
    "        \n",
    "        self._sink_down(0)\n",
    "        return max_value\n",
    "    "
   ]
  },
  {
   "cell_type": "code",
   "execution_count": 2,
   "id": "6e3cf804",
   "metadata": {},
   "outputs": [],
   "source": [
    "h = MaxHeap()"
   ]
  },
  {
   "cell_type": "code",
   "execution_count": 3,
   "id": "3bfabc86",
   "metadata": {},
   "outputs": [
    {
     "name": "stdout",
     "output_type": "stream",
     "text": [
      "[99, 72, 61, 58]\n"
     ]
    }
   ],
   "source": [
    "h.insert(99)\n",
    "h.insert(72)\n",
    "h.insert(61)\n",
    "h.insert(58)\n",
    "print(h.heap)"
   ]
  },
  {
   "cell_type": "code",
   "execution_count": 4,
   "id": "082392d9",
   "metadata": {},
   "outputs": [
    {
     "name": "stdout",
     "output_type": "stream",
     "text": [
      "[100, 99, 61, 58, 72]\n"
     ]
    }
   ],
   "source": [
    "h.insert(100)\n",
    "print(h.heap)"
   ]
  },
  {
   "cell_type": "code",
   "execution_count": 5,
   "id": "7ca8f816",
   "metadata": {},
   "outputs": [
    {
     "name": "stdout",
     "output_type": "stream",
     "text": [
      "[100, 99, 75, 58, 72, 61]\n"
     ]
    }
   ],
   "source": [
    "h.insert(75)\n",
    "print(h.heap)"
   ]
  },
  {
   "cell_type": "code",
   "execution_count": 6,
   "id": "14981074",
   "metadata": {},
   "outputs": [
    {
     "name": "stdout",
     "output_type": "stream",
     "text": [
      "[99, 72, 75, 58, 61]\n"
     ]
    }
   ],
   "source": [
    "h.remove()\n",
    "print(h.heap)"
   ]
  }
 ],
 "metadata": {
  "kernelspec": {
   "display_name": "Python 3 (ipykernel)",
   "language": "python",
   "name": "python3"
  },
  "language_info": {
   "codemirror_mode": {
    "name": "ipython",
    "version": 3
   },
   "file_extension": ".py",
   "mimetype": "text/x-python",
   "name": "python",
   "nbconvert_exporter": "python",
   "pygments_lexer": "ipython3",
   "version": "3.7.6"
  }
 },
 "nbformat": 4,
 "nbformat_minor": 5
}
