{
 "cells": [
  {
   "cell_type": "markdown",
   "id": "0f7ec695",
   "metadata": {},
   "source": [
    "# Double Linked List (Python)"
   ]
  },
  {
   "cell_type": "code",
   "execution_count": 1,
   "id": "b8c58aca",
   "metadata": {},
   "outputs": [],
   "source": [
    "class Node:\n",
    "\tdef __init__(self, value):\n",
    "\t\tself.value = value # The value itself\n",
    "\t\tself.next = None # next value\n",
    "\t\tself.prev = None # previous value"
   ]
  },
  {
   "cell_type": "code",
   "execution_count": 2,
   "id": "4847bfff",
   "metadata": {},
   "outputs": [],
   "source": [
    "class DoublyLinkedList:\n",
    "    def __init__(self, value):\n",
    "        new_node = Node(value) # this is the first node\n",
    "        self.head = new_node\n",
    "        self.tail = new_node\n",
    "        self.length = 1\n",
    "\n",
    "    def print_list(self):\n",
    "        temp = self.head # Strat from the begining\n",
    "        while temp is not None: # end the loop when it reaches the end\n",
    "            print(temp.value)\n",
    "            temp = temp.next # temp goes next value\n",
    "\n",
    "    # Append\n",
    "    def append(self,value):\n",
    "        new_node = Node(value)\n",
    "        # check if the list is empty\n",
    "        if self.head == None:\n",
    "            self.head = new_node\n",
    "            self.tail = new_node\n",
    "        else:\n",
    "            new_node.prev = self.tail\n",
    "            self.tail.next = new_node\n",
    "            self.tail = new_node\n",
    "        self.length += 1\n",
    "        return True\n",
    "\n",
    "    def pop(self):\n",
    "        # situation if list is empty\n",
    "        if self.length == 0:\n",
    "            return None\n",
    "        \n",
    "        temp = self.tail # mark the pop item\n",
    "        \n",
    "        # if the list is only 1 item and we pop it\n",
    "        if self.length == 1:\n",
    "            self.head = None\n",
    "            self.tail = None\n",
    "        else:\n",
    "            self.tail = temp.prev\n",
    "            self.tail.next = None\n",
    "            temp.prev = None\n",
    "        self.length -= 1\n",
    "        return temp\n",
    "    \n",
    "    \n",
    "     # Prepend\n",
    "    def prepend(self,value):\n",
    "        new_node = Node(value)\n",
    "        if self.length == 0:\n",
    "            self.head = new_node\n",
    "            self.tail = new_node\n",
    "        else:\n",
    "            new_node.next = self.head\n",
    "            self.head.prev = new_node\n",
    "            self.head = new_node\n",
    "        self.length += 1\n",
    "        return True\n",
    "    \n",
    "    # Pop first\n",
    "    def pop_first(self):\n",
    "        if self.length == 0: # empty list\n",
    "            return None\n",
    "        \n",
    "        temp = self.head # Put this right here to mark the pop item\n",
    "        \n",
    "        if self.length == 1: # list with 1 item\n",
    "            self.head = None\n",
    "            self.tail = None\n",
    "            \n",
    "        else:\n",
    "            self.head = self.head.next\n",
    "            self.head.prev = None\n",
    "            temp.next = None\n",
    "            \n",
    "        self.length -= 1\n",
    "        return temp\n",
    "    \n",
    "    # Get\n",
    "    def get(self, index):\n",
    "        if index < 0 or index >= self.length:\n",
    "            return None\n",
    "        temp = self.head\n",
    "        if index < self.length / 2:\n",
    "            for _ in range(index):\n",
    "                temp = temp.next\n",
    "        else:\n",
    "            temp = self.tail\n",
    "            for _ in range(self.length - 1, index ,-1):\n",
    "            # range(8,4,-1) : 8,7,6,5\n",
    "            # 倒数\n",
    "                temp = temp.prev\n",
    "        return temp\n",
    "    \n",
    "    \n",
    "    # Set (changing value based on index)\n",
    "    def set_value(self, index, value):\n",
    "        temp = self.get(index)\n",
    "        if temp:\n",
    "            temp.value = value\n",
    "            return True\n",
    "        return False\n",
    "    \n",
    "    # Insert\n",
    "    def insert(self, index, value):\n",
    "        if index < 0 or index > self.length:\n",
    "            return False\n",
    "        if index == 0:\n",
    "            return self.prepend(value)\n",
    "        if index == self.length:\n",
    "            return self.append(value)\n",
    "        \n",
    "        new_node = Node(value)\n",
    "        before = self.get(index - 1)\n",
    "        after = before.next\n",
    "        \n",
    "        # prev and next\n",
    "        before.next = new_node\n",
    "        new_node.next = after\n",
    "        \n",
    "        after.prev = new_node\n",
    "        new_node.prev = before\n",
    "        \n",
    "        self.length += 1\n",
    "        return True\n",
    "    \n",
    "    \n",
    "    # Remove\n",
    "    def remove(self, index):\n",
    "        if index < 0 or index > self.length:\n",
    "            return False\n",
    "        if index == 0:\n",
    "            return self.pop_first(value)\n",
    "        if index == self.length - 1:\n",
    "            return self.pop(value)\n",
    "        \n",
    "        temp = self.get(index)\n",
    "        before = temp.prev\n",
    "        after = temp.next\n",
    "        \n",
    "        # prev and next\n",
    "        before.next = after\n",
    "        after.prev = before\n",
    "        \n",
    "        # remove\n",
    "        temp.prev = None\n",
    "        temp.next = None\n",
    "        \n",
    "        self.length -= 1\n",
    "        \n",
    "        return temp"
   ]
  },
  {
   "cell_type": "markdown",
   "id": "fa36dab7",
   "metadata": {},
   "source": [
    "# Append"
   ]
  },
  {
   "cell_type": "code",
   "execution_count": 3,
   "id": "7cc7b907",
   "metadata": {},
   "outputs": [
    {
     "name": "stdout",
     "output_type": "stream",
     "text": [
      "7\n"
     ]
    }
   ],
   "source": [
    "dl = DoublyLinkedList(7)\n",
    "dl.print_list()"
   ]
  },
  {
   "cell_type": "code",
   "execution_count": 4,
   "id": "9f9f5058",
   "metadata": {},
   "outputs": [
    {
     "data": {
      "text/plain": [
       "True"
      ]
     },
     "execution_count": 4,
     "metadata": {},
     "output_type": "execute_result"
    }
   ],
   "source": [
    "dl.append(8)\n",
    "dl.append(9)\n",
    "dl.append(1)"
   ]
  },
  {
   "cell_type": "code",
   "execution_count": 5,
   "id": "8ee86c5b",
   "metadata": {},
   "outputs": [
    {
     "name": "stdout",
     "output_type": "stream",
     "text": [
      "7\n",
      "8\n",
      "9\n",
      "1\n"
     ]
    }
   ],
   "source": [
    "dl.print_list()"
   ]
  },
  {
   "cell_type": "markdown",
   "id": "3695c871",
   "metadata": {},
   "source": [
    "# Prepend"
   ]
  },
  {
   "cell_type": "code",
   "execution_count": 6,
   "id": "425ce527",
   "metadata": {},
   "outputs": [
    {
     "name": "stdout",
     "output_type": "stream",
     "text": [
      "27\n",
      "18\n",
      "94\n",
      "12\n"
     ]
    }
   ],
   "source": [
    "dl3 = DoublyLinkedList(27)\n",
    "dl3.append(18)\n",
    "dl3.append(94)\n",
    "dl3.append(12)\n",
    "dl3.print_list()"
   ]
  },
  {
   "cell_type": "code",
   "execution_count": 7,
   "id": "fe801ede",
   "metadata": {},
   "outputs": [
    {
     "data": {
      "text/plain": [
       "True"
      ]
     },
     "execution_count": 7,
     "metadata": {},
     "output_type": "execute_result"
    }
   ],
   "source": [
    "dl3.prepend(0)"
   ]
  },
  {
   "cell_type": "code",
   "execution_count": 8,
   "id": "86e670b7",
   "metadata": {},
   "outputs": [
    {
     "name": "stdout",
     "output_type": "stream",
     "text": [
      "0\n",
      "27\n",
      "18\n",
      "94\n",
      "12\n"
     ]
    }
   ],
   "source": [
    "dl3.print_list()"
   ]
  },
  {
   "cell_type": "markdown",
   "id": "4825e99d",
   "metadata": {},
   "source": [
    "# Pop"
   ]
  },
  {
   "cell_type": "code",
   "execution_count": 9,
   "id": "994d5764",
   "metadata": {},
   "outputs": [
    {
     "name": "stdout",
     "output_type": "stream",
     "text": [
      "8\n"
     ]
    }
   ],
   "source": [
    "dl2 =  DoublyLinkedList(8)\n",
    "dl2.print_list()"
   ]
  },
  {
   "cell_type": "code",
   "execution_count": 10,
   "id": "3b4e3cef",
   "metadata": {},
   "outputs": [
    {
     "name": "stdout",
     "output_type": "stream",
     "text": [
      "<__main__.Node object at 0x7faab6c5d490>\n"
     ]
    }
   ],
   "source": [
    "print(dl2.pop())"
   ]
  },
  {
   "cell_type": "code",
   "execution_count": 11,
   "id": "db11d46d",
   "metadata": {},
   "outputs": [
    {
     "name": "stdout",
     "output_type": "stream",
     "text": [
      "None\n"
     ]
    }
   ],
   "source": [
    "print(dl2.pop()) # empty list"
   ]
  },
  {
   "cell_type": "code",
   "execution_count": 12,
   "id": "3c5611d2",
   "metadata": {},
   "outputs": [
    {
     "name": "stdout",
     "output_type": "stream",
     "text": [
      "0\n",
      "27\n",
      "18\n",
      "94\n",
      "12\n"
     ]
    }
   ],
   "source": [
    "dl3.print_list()"
   ]
  },
  {
   "cell_type": "code",
   "execution_count": 13,
   "id": "c57bcf46",
   "metadata": {},
   "outputs": [
    {
     "data": {
      "text/plain": [
       "<__main__.Node at 0x7faab6c82fd0>"
      ]
     },
     "execution_count": 13,
     "metadata": {},
     "output_type": "execute_result"
    }
   ],
   "source": [
    "dl3.pop()"
   ]
  },
  {
   "cell_type": "code",
   "execution_count": 14,
   "id": "f5b9c924",
   "metadata": {},
   "outputs": [
    {
     "name": "stdout",
     "output_type": "stream",
     "text": [
      "0\n",
      "27\n",
      "18\n",
      "94\n"
     ]
    }
   ],
   "source": [
    "dl3.print_list()"
   ]
  },
  {
   "cell_type": "markdown",
   "id": "62631c17",
   "metadata": {},
   "source": [
    "# Pop First"
   ]
  },
  {
   "cell_type": "code",
   "execution_count": 15,
   "id": "7c8d7ca8",
   "metadata": {},
   "outputs": [
    {
     "name": "stdout",
     "output_type": "stream",
     "text": [
      "2\n",
      "3\n",
      "4\n",
      "12\n",
      "0\n"
     ]
    }
   ],
   "source": [
    "dl4 = DoublyLinkedList(2)\n",
    "dl4.append(3)\n",
    "dl4.append(4)\n",
    "dl4.append(12)\n",
    "dl4.append(0)\n",
    "dl4.print_list()"
   ]
  },
  {
   "cell_type": "code",
   "execution_count": 16,
   "id": "7d0749a0",
   "metadata": {},
   "outputs": [
    {
     "name": "stdout",
     "output_type": "stream",
     "text": [
      "<__main__.Node object at 0x7faab6c79e90>\n"
     ]
    }
   ],
   "source": [
    "print(dl4.pop_first())"
   ]
  },
  {
   "cell_type": "code",
   "execution_count": 17,
   "id": "12a9f98c",
   "metadata": {},
   "outputs": [
    {
     "name": "stdout",
     "output_type": "stream",
     "text": [
      "3\n",
      "4\n",
      "12\n",
      "0\n"
     ]
    }
   ],
   "source": [
    "dl4.print_list()"
   ]
  },
  {
   "cell_type": "code",
   "execution_count": 18,
   "id": "96f0a7b8",
   "metadata": {},
   "outputs": [
    {
     "name": "stdout",
     "output_type": "stream",
     "text": [
      "<__main__.Node object at 0x7faab6c7f210>\n"
     ]
    }
   ],
   "source": [
    "dl_pop_first = DoublyLinkedList(0) # 1 item\n",
    "print(dl_pop_first.pop_first())"
   ]
  },
  {
   "cell_type": "code",
   "execution_count": 19,
   "id": "081e7464",
   "metadata": {},
   "outputs": [
    {
     "name": "stdout",
     "output_type": "stream",
     "text": [
      "None\n"
     ]
    }
   ],
   "source": [
    "print(dl_pop_first.pop_first()) # empty"
   ]
  },
  {
   "cell_type": "markdown",
   "id": "c80ffa1d",
   "metadata": {},
   "source": [
    "# Get"
   ]
  },
  {
   "cell_type": "code",
   "execution_count": 20,
   "id": "f59b36f1",
   "metadata": {},
   "outputs": [
    {
     "name": "stdout",
     "output_type": "stream",
     "text": [
      "3\n",
      "4\n",
      "12\n",
      "0\n"
     ]
    }
   ],
   "source": [
    "dl4.print_list()"
   ]
  },
  {
   "cell_type": "code",
   "execution_count": 21,
   "id": "bac0183f",
   "metadata": {},
   "outputs": [
    {
     "name": "stdout",
     "output_type": "stream",
     "text": [
      "12\n"
     ]
    }
   ],
   "source": [
    "print(dl4.get(2).value)"
   ]
  },
  {
   "cell_type": "code",
   "execution_count": 22,
   "id": "e67c6513",
   "metadata": {},
   "outputs": [
    {
     "name": "stdout",
     "output_type": "stream",
     "text": [
      "3\n"
     ]
    }
   ],
   "source": [
    "print(dl4.get(0).value)"
   ]
  },
  {
   "cell_type": "markdown",
   "id": "645c802c",
   "metadata": {},
   "source": [
    "# Set"
   ]
  },
  {
   "cell_type": "code",
   "execution_count": 23,
   "id": "8693cfb6",
   "metadata": {},
   "outputs": [
    {
     "name": "stdout",
     "output_type": "stream",
     "text": [
      "3\n",
      "4\n",
      "12\n",
      "0\n"
     ]
    }
   ],
   "source": [
    "dl4.print_list()"
   ]
  },
  {
   "cell_type": "code",
   "execution_count": 24,
   "id": "032fe976",
   "metadata": {},
   "outputs": [
    {
     "data": {
      "text/plain": [
       "True"
      ]
     },
     "execution_count": 24,
     "metadata": {},
     "output_type": "execute_result"
    }
   ],
   "source": [
    "dl4.set_value(0,0)"
   ]
  },
  {
   "cell_type": "code",
   "execution_count": 25,
   "id": "bf13ccc9",
   "metadata": {},
   "outputs": [
    {
     "name": "stdout",
     "output_type": "stream",
     "text": [
      "0\n",
      "4\n",
      "12\n",
      "0\n"
     ]
    }
   ],
   "source": [
    "dl4.print_list()"
   ]
  },
  {
   "cell_type": "markdown",
   "id": "dde9e082",
   "metadata": {},
   "source": [
    "# Insert"
   ]
  },
  {
   "cell_type": "code",
   "execution_count": 26,
   "id": "8f3fa383",
   "metadata": {},
   "outputs": [
    {
     "name": "stdout",
     "output_type": "stream",
     "text": [
      "0\n",
      "4\n",
      "12\n",
      "0\n"
     ]
    }
   ],
   "source": [
    "dl4.print_list()"
   ]
  },
  {
   "cell_type": "code",
   "execution_count": 27,
   "id": "7e9129d4",
   "metadata": {},
   "outputs": [
    {
     "data": {
      "text/plain": [
       "True"
      ]
     },
     "execution_count": 27,
     "metadata": {},
     "output_type": "execute_result"
    }
   ],
   "source": [
    "dl4.insert(2,88)"
   ]
  },
  {
   "cell_type": "code",
   "execution_count": 28,
   "id": "fa20cbbb",
   "metadata": {},
   "outputs": [
    {
     "name": "stdout",
     "output_type": "stream",
     "text": [
      "0\n",
      "4\n",
      "88\n",
      "12\n",
      "0\n"
     ]
    }
   ],
   "source": [
    "dl4.print_list()"
   ]
  },
  {
   "cell_type": "markdown",
   "id": "5769958b",
   "metadata": {},
   "source": [
    "# Remove"
   ]
  },
  {
   "cell_type": "code",
   "execution_count": 29,
   "id": "d7792bd4",
   "metadata": {},
   "outputs": [
    {
     "name": "stdout",
     "output_type": "stream",
     "text": [
      "0\n",
      "4\n",
      "88\n",
      "12\n",
      "0\n"
     ]
    }
   ],
   "source": [
    "dl4.print_list()"
   ]
  },
  {
   "cell_type": "code",
   "execution_count": 30,
   "id": "31ccdd4e",
   "metadata": {},
   "outputs": [
    {
     "data": {
      "text/plain": [
       "<__main__.Node at 0x7faab6c8f0d0>"
      ]
     },
     "execution_count": 30,
     "metadata": {},
     "output_type": "execute_result"
    }
   ],
   "source": [
    "dl4.remove(2)"
   ]
  },
  {
   "cell_type": "code",
   "execution_count": 31,
   "id": "3fb3efc7",
   "metadata": {},
   "outputs": [
    {
     "name": "stdout",
     "output_type": "stream",
     "text": [
      "0\n",
      "4\n",
      "12\n",
      "0\n"
     ]
    }
   ],
   "source": [
    "dl4.print_list()"
   ]
  },
  {
   "cell_type": "markdown",
   "id": "88353311",
   "metadata": {},
   "source": [
    "# Double Linked List Interview Questions Pratice"
   ]
  },
  {
   "cell_type": "code",
   "execution_count": 3,
   "id": "cb074d80",
   "metadata": {},
   "outputs": [],
   "source": [
    "class Node:\n",
    "    def __init__(self, value):\n",
    "        self.value = value\n",
    "        self.next = None\n",
    "        self.prev = None\n",
    "        \n",
    "\n",
    "class DoublyLinkedList:\n",
    "    def __init__(self, value):\n",
    "        new_node = Node(value)\n",
    "        self.head = new_node\n",
    "        self.tail = new_node\n",
    "        self.length = 1\n",
    "\n",
    "    def print_list(self):\n",
    "        temp = self.head\n",
    "        while temp is not None:\n",
    "            print(temp.value)\n",
    "            temp = temp.next\n",
    "        \n",
    "    def append(self, value):\n",
    "        new_node = Node(value)\n",
    "        if self.head is None:\n",
    "            self.head = new_node\n",
    "            self.tail = new_node\n",
    "        else:\n",
    "            self.tail.next = new_node\n",
    "            new_node.prev = self.tail\n",
    "            self.tail = new_node\n",
    "        self.length += 1\n",
    "        return True\n",
    "\n",
    "    # fill the following function\n",
    "    def swap_first_last(self):\n",
    "        \n",
    "        if self.head is None or self.head == self.tail:\n",
    "            return\n",
    "        \n",
    "        # mark down all the variables that need to change\n",
    "        old_head = self.head\n",
    "        old_tail = self.tail\n",
    "        head_next = self.head.next\n",
    "        tail_prev = self.tail.prev\n",
    "        \n",
    "        # Swapping tail and head\n",
    "        self.head = old_tail\n",
    "        self.tail = old_head\n",
    "        \n",
    "        # Fixing the head relationship\n",
    "        self.head.prev = None\n",
    "        self.head.next = head_next\n",
    "        # connect the second element to the head\n",
    "        self.head.next.prev = self.head\n",
    "        \n",
    "        # Fixing the tail relationship\n",
    "        self.tail.next = None\n",
    "        self.tail.prev = tail_prev\n",
    "        # connect the tail previous element to the tail\n",
    "        self.tail.prev.next = self.tail"
   ]
  },
  {
   "cell_type": "code",
   "execution_count": 4,
   "id": "d6fbcce4",
   "metadata": {},
   "outputs": [
    {
     "name": "stdout",
     "output_type": "stream",
     "text": [
      "DLL before swap_first_last():\n",
      "1\n",
      "2\n",
      "3\n",
      "4\n",
      "\n",
      "DLL after swap_first_last():\n",
      "4\n",
      "2\n",
      "3\n",
      "1\n"
     ]
    }
   ],
   "source": [
    "# Testing\n",
    "my_doubly_linked_list = DoublyLinkedList(1)\n",
    "my_doubly_linked_list.append(2)\n",
    "my_doubly_linked_list.append(3)\n",
    "my_doubly_linked_list.append(4)\n",
    "\n",
    "\n",
    "print('DLL before swap_first_last():')\n",
    "my_doubly_linked_list.print_list()\n",
    "\n",
    "\n",
    "my_doubly_linked_list.swap_first_last()\n",
    "\n",
    "\n",
    "print('\\nDLL after swap_first_last():')\n",
    "my_doubly_linked_list.print_list()"
   ]
  },
  {
   "cell_type": "code",
   "execution_count": 5,
   "id": "dbc6787c",
   "metadata": {},
   "outputs": [
    {
     "name": "stdout",
     "output_type": "stream",
     "text": [
      "DLL before swap_first_last():\n",
      "8\n",
      "9\n",
      "10\n",
      "11\n",
      "\n",
      "DLL after swap_first_last():\n",
      "11\n",
      "9\n",
      "10\n",
      "8\n"
     ]
    }
   ],
   "source": [
    "# Testing 2\n",
    "my_doubly_linked_list = DoublyLinkedList(8)\n",
    "my_doubly_linked_list.append(9)\n",
    "my_doubly_linked_list.append(10)\n",
    "my_doubly_linked_list.append(11)\n",
    "\n",
    "\n",
    "print('DLL before swap_first_last():')\n",
    "my_doubly_linked_list.print_list()\n",
    "\n",
    "\n",
    "my_doubly_linked_list.swap_first_last()\n",
    "\n",
    "\n",
    "print('\\nDLL after swap_first_last():')\n",
    "my_doubly_linked_list.print_list()"
   ]
  },
  {
   "cell_type": "code",
   "execution_count": null,
   "id": "41666161",
   "metadata": {},
   "outputs": [],
   "source": []
  }
 ],
 "metadata": {
  "kernelspec": {
   "display_name": "Python 3 (ipykernel)",
   "language": "python",
   "name": "python3"
  },
  "language_info": {
   "codemirror_mode": {
    "name": "ipython",
    "version": 3
   },
   "file_extension": ".py",
   "mimetype": "text/x-python",
   "name": "python",
   "nbconvert_exporter": "python",
   "pygments_lexer": "ipython3",
   "version": "3.7.6"
  }
 },
 "nbformat": 4,
 "nbformat_minor": 5
}
